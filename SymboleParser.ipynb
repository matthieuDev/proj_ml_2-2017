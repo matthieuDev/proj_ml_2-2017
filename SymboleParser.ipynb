{
 "cells": [
  {
   "cell_type": "code",
   "execution_count": null,
   "metadata": {
    "collapsed": true
   },
   "outputs": [],
   "source": [
    "import re\n",
    "from IPython.display import display\n",
    "from ipywidgets import widgets\n",
    "import pickle"
   ]
  },
  {
   "cell_type": "code",
   "execution_count": null,
   "metadata": {
    "collapsed": false,
    "scrolled": true
   },
   "outputs": [],
   "source": [
    "prog = re.compile(\"(?:\\s|^)((?:[^\\s][^a-zA-Z1-9\\n]+)(?:[^\\s](?:[^a-zA-Z1-9\\n]+|$))+)\")\n",
    "emojiiTable = {}\n",
    "for fn in ['train_pos.txt', 'train_neg.txt','test_data.txt']:\n",
    "    with open(fn) as f:\n",
    "        for line in f.readlines():\n",
    "            for result in prog.finditer(line):\n",
    "                g1 = result.group(1).strip()\n",
    "                if \"i'\" not in g1 :\n",
    "                    if g1 not in emojiiTable:\n",
    "                        emojiiTable[g1] = (1,line)\n",
    "                    else:\n",
    "                        emojiiTable[g1] = (emojiiTable[g1][0] + 1,emojiiTable[g1][1])\n",
    "theList =  [(v[0], v[1], k) for k, v in emojiiTable.items()]\n",
    "theListSorted = sorted(theList, key=lambda t: t[0])\n",
    "theListSorted[-150:]\n",
    "t2 = {}\n",
    "for count, sample, moji in theListSorted[-150:]:\n",
    "    print('⬛'+moji+'\"⬛ in ⬜'+sample+'⬜ '+str(count)+' occurences');\n",
    "    t2[moji] = input()\n",
    "    \n",
    "with open('emojtable.pkl', 'wb') as f:\n",
    "        pickle.dump(t2, f, pickle.HIGHEST_PROTOCOL)\n"
   ]
  }
 ],
 "metadata": {
  "kernelspec": {
   "display_name": "Python [Root]",
   "language": "python",
   "name": "Python [Root]"
  },
  "language_info": {
   "codemirror_mode": {
    "name": "ipython",
    "version": 3
   },
   "file_extension": ".py",
   "mimetype": "text/x-python",
   "name": "python",
   "nbconvert_exporter": "python",
   "pygments_lexer": "ipython3",
   "version": "3.5.2"
  }
 },
 "nbformat": 4,
 "nbformat_minor": 0
}
