{
 "cells": [
  {
   "cell_type": "code",
   "execution_count": 25,
   "metadata": {},
   "outputs": [],
   "source": [
    "import numpy as np\n",
    "import pickle\n",
    "\n",
    "from scipy.sparse import rand\n",
    "from sklearn.svm import SVR\n",
    "from sklearn.model_selection import GridSearchCV\n",
    "from sklearn.model_selection import learning_curve\n",
    "from sklearn.kernel_ridge import KernelRidge\n",
    "import matplotlib.pyplot as plt"
   ]
  },
  {
   "cell_type": "code",
   "execution_count": 33,
   "metadata": {},
   "outputs": [],
   "source": [
    "x = np.load('embeddings.npy')\n",
    "y = pickle.load(open('cooc.pkl', 'rb'))\n",
    "z = pickle.load(open('vocab.pkl', 'rb'))"
   ]
  },
  {
   "cell_type": "code",
   "execution_count": 7,
   "metadata": {},
   "outputs": [
    {
     "data": {
      "text/plain": [
       "(21161, 20)"
      ]
     },
     "execution_count": 7,
     "metadata": {},
     "output_type": "execute_result"
    }
   ],
   "source": [
    "x.shape"
   ]
  },
  {
   "cell_type": "code",
   "execution_count": 8,
   "metadata": {},
   "outputs": [
    {
     "name": "stdout",
     "output_type": "stream",
     "text": [
      "[ 0.56403988 -0.33822548  0.11260476  0.05975893 -0.39520949 -0.2375117\n",
      " -0.12390807 -0.16872797 -0.02044019  0.32865794 -0.64644995 -0.08901839\n",
      "  0.26161983 -0.1631089   0.08588484  0.57699542 -0.52317936 -0.37408539\n",
      " -0.13934747 -0.61597906]\n"
     ]
    }
   ],
   "source": [
    "print(x[1])"
   ]
  },
  {
   "cell_type": "code",
   "execution_count": 40,
   "metadata": {},
   "outputs": [],
   "source": [
    "thibault = list(zip(y.row, y.col, y.data))"
   ]
  },
  {
   "cell_type": "code",
   "execution_count": 35,
   "metadata": {},
   "outputs": [],
   "source": [
    "inv_map = {v: k for k, v in z.items()}"
   ]
  },
  {
   "cell_type": "code",
   "execution_count": 44,
   "metadata": {},
   "outputs": [
    {
     "name": "stdout",
     "output_type": "stream",
     "text": [
      "[['<user>', '<user>', 207302], ['!', '<user>', 73069], ['i', '<user>', 57298], ['the', '<user>', 30095], ['.', '<user>', 37914], [',', '<user>', 31220], ['to', '<user>', 34338], ['you', '<user>', 42215], ['(', '<user>', 8646], ['<url>', '<user>', 7980], ['a', '<user>', 23651], ['...', '<user>', 10669], ['and', '<user>', 21441], ['my', '<user>', 18235], ['me', '<user>', 20487], ['of', '<user>', 11016], ['?', '<user>', 24963], ['is', '<user>', 12825], ['for', '<user>', 14617], ['in', '<user>', 12590], ['it', '<user>', 17626], ['\"', '<user>', 16643], ['this', '<user>', 7707], ['so', '<user>', 11216], ['-', '<user>', 5440], ['with', '<user>', 8600], ['on', '<user>', 10289], ['that', '<user>', 11599], [')', '<user>', 8376], ['be', '<user>', 9940], [\"i'm\", '<user>', 10328], ['have', '<user>', 10408], [':', '<user>', 4367], ['but', '<user>', 9315], ['just', '<user>', 8257], ['rt', '<user>', 19209], ['love', '<user>', 7683], ['your', '<user>', 8459], ['all', '<user>', 5858], ['not', '<user>', 7353], ['was', '<user>', 7349], ['at', '<user>', 6317], ['are', '<user>', 6995], ['..', '<user>', 7297], ['like', '<user>', 6457], ['/', '<user>', 2865], ['get', '<user>', 5778], ['up', '<user>', 4879], ['frame', '<user>', 19], ['&', '<user>', 5005], ['lol', '<user>', 8229], ['know', '<user>', 6482], ['good', '<user>', 5879], ['do', '<user>', 5733], ['u', '<user>', 7978], ['now', '<user>', 5087], ['when', '<user>', 4245], ['one', '<user>', 4992], ['if', '<user>', 4988], ['we', '<user>', 6646], ['follow', '<user>', 7928], ['no', '<user>', 5376], ['can', '<user>', 5447], ['what', '<user>', 5006], ['go', '<user>', 4548], [\"don't\", '<user>', 4829], ['out', '<user>', 4303], ['x', '<user>', 3934], ['will', '<user>', 5276], ['day', '<user>', 3692], [\"'\", '<user>', 3158], ['please', '<user>', 6190], ['from', '<user>', 3227], ['see', '<user>', 5089], ['too', '<user>', 5605], ['want', '<user>', 3402], ['there', '<user>', 3511], ['back', '<user>', 4060], [\"it's\", '<user>', 4015], ['today', '<user>', 2691], ['about', '<user>', 3492], ['really', '<user>', 3485], ['how', '<user>', 3569], ['got', '<user>', 3570], ['thanks', '<user>', 6048], ['2', '<user>', 2010], [\"can't\", '<user>', 3476], ['time', '<user>', 3106], ['its', '<user>', 3614], ['think', '<user>', 3279], ['im', '<user>', 3307], ['*', '<user>', 3926], ['haha', '<user>', 4766], ['going', '<user>', 2793], ['he', '<user>', 3155], ['<3', '<user>', 3884], ['as', '<user>', 2831], ['miss', '<user>', 3401], ['by', '<user>', 2063], ['need', '<user>', 2620]]\n"
     ]
    }
   ],
   "source": [
    "print(list(map(lambda t : [inv_map[t[0]], inv_map[t[1]], t[2]], thibault[:100])))"
   ]
  }
 ],
 "metadata": {
  "kernelspec": {
   "display_name": "Python 3",
   "language": "python",
   "name": "python3"
  },
  "language_info": {
   "codemirror_mode": {
    "name": "ipython",
    "version": 3
   },
   "file_extension": ".py",
   "mimetype": "text/x-python",
   "name": "python",
   "nbconvert_exporter": "python",
   "pygments_lexer": "ipython3",
   "version": "3.6.1"
  }
 },
 "nbformat": 4,
 "nbformat_minor": 2
}
