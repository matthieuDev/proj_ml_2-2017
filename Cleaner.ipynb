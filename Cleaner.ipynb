{
 "cells": [
  {
   "cell_type": "code",
   "execution_count": null,
   "metadata": {
    "collapsed": true
   },
   "outputs": [],
   "source": [
    "import re\n",
    "import pickle\n",
    "import nltk\n",
    "from nltk.tokenize import  TweetTokenizer\n",
    "from nltk.corpus import stopwords\n"
   ]
  },
  {
   "cell_type": "code",
   "execution_count": null,
   "metadata": {
    "collapsed": false
   },
   "outputs": [],
   "source": [
    "from nltk.stem.snowball import SnowballStemmer\n",
    "\n",
    "tokenizer =  TweetTokenizer()\n",
    "stop = set(stopwords.words('english')+['<user>','<url>',',','-','.','[',']',':','&'])\n",
    "stemmer = SnowballStemmer(\"english\");\n",
    "mojitable = pickle.load(open('emojtable.😃', 'rb'))\n",
    "mojitable[\"< \\ 3\"] = \"</3\";\n",
    "mojitable[\":')\"] = \":')\";\n",
    "mojitable = {k: v for k, v in mojitable.items() if v != \"\"}\n",
    "keys = [k for k, v in mojitable.items()]\n",
    "prog = re.compile(\"(?:\\s|^)((?:[^\\si][^a-zA-Z1-9\\n]+)(?:[^\\si](?:[^a-zA-Z1-9\\n]+|$))+)\")\n",
    "lineHead = re.compile(\"^(\\d+,)\");\n",
    "\n",
    "def replaceMoji(s):\n",
    "    def checkSubstring(emo):\n",
    "        for k in keys:\n",
    "            if k in emo :\n",
    "                return mojitable[k]\n",
    "        return \"\";\n",
    "    splitted = prog.split(s)\n",
    "    moj = \"\"\n",
    "    nomoj = \"\"\n",
    "    for i in range(0,int(len(splitted)/2)):\n",
    "        nomoj += splitted[2*i]+\" \"\n",
    "        emo = splitted[2*i+1].strip()\n",
    "        parsedEmo = mojitable.get(emo,checkSubstring(emo))\n",
    "        moj += parsedEmo+\" \"    \n",
    "    return (moj,nomoj+splitted[-1]);\n",
    "\n",
    "def prepareOneLine(line):\n",
    "    try :\n",
    "        tweet = line.decode('utf-8')\n",
    "    except UnicodeDecodeError :\n",
    "        tweet = str(line)[2:-5]\n",
    "        print(\"cant parse \"+tweet)\n",
    "    head = lineHead.search(tweet)\n",
    "    header = \"\"\n",
    "    if head != None :\n",
    "        header = head.group(1)\n",
    "        tweet = tweet[len(header):]\n",
    "    return (header+preparOneTweets(tweet)+\"\\n\").encode('utf-8')\n",
    "            \n",
    "def preparOneTweets(tweet):\n",
    "    moj,nomoj = replaceMoji(tweet)\n",
    "    return  \" \".join([stemmer.stem(i) for i in tokenizer.tokenize(nomoj) if i not in stop])+\" \"+moj\n",
    "\n",
    "def justExtractMoj(line):\n",
    "    try :\n",
    "        tweet = line.decode('utf-8')\n",
    "    except UnicodeDecodeError :\n",
    "        tweet = str(line)[2:-5]\n",
    "        print(\"cant parse \"+tweet)\n",
    "    head = lineHead.search(tweet)\n",
    "    header = \"\"\n",
    "    if head != None :\n",
    "        header = head.group(1)\n",
    "        tweet = tweet[len(header):]\n",
    "    moj,nomoj = replaceMoji(tweet)\n",
    "    return (header+nomoj+\"\\n\").encode('utf-8'),(moj.strip()+\"\\n\").encode('utf-8')\n",
    "\n",
    "def extractMojFromFile(file):\n",
    "    lines = []\n",
    "    with open(file,'rb') as f :\n",
    "        lines = map(justExtractMoj,f.readlines())\n",
    "        f.close()\n",
    "    with open(\"moj_\"+file,\"wb\") as fmoj:\n",
    "         with open(\"nomoj_\"+file,\"wb\") as fnomoj:\n",
    "            for nomoj,moj in lines:\n",
    "                fmoj.write(moj)\n",
    "                fnomoj.write(nomoj)\n",
    "            fnomoj.close()\n",
    "            fmoj.close()\n",
    "    print(\"done \"+file)\n",
    "    \n",
    "def preprocessFile(file):\n",
    "    lines = []\n",
    "    with open(file,'rb') as f :\n",
    "        lines = map(prepareOneLine,f.readlines())\n",
    "        f.close()\n",
    "    with open(\"cleaned\"+file,\"wb\") as f:\n",
    "        for l in lines:\n",
    "            f.write(l)\n",
    "        f.close()\n",
    "        print(\"done \"+file)\n",
    "def checkSubstring(emo):\n",
    "        for k in keys:\n",
    "            if k in emo :\n",
    "                return mojitable[k]\n",
    "        return \"\";\n"
   ]
  },
  {
   "cell_type": "code",
   "execution_count": null,
   "metadata": {
    "collapsed": false
   },
   "outputs": [],
   "source": [
    "files = [\"train_neg.txt\",\"train_neg_full.txt\",\"train_pos.txt\",\"train_pos_full.txt\",\"test_data.txt\"]\n",
    "for f in files:\n",
    "    extractMojFromFile(f)"
   ]
  },
  {
   "cell_type": "code",
   "execution_count": null,
   "metadata": {
    "collapsed": false
   },
   "outputs": [],
   "source": [
    "mojitable"
   ]
  },
  {
   "cell_type": "code",
   "execution_count": null,
   "metadata": {
    "collapsed": true
   },
   "outputs": [],
   "source": []
  }
 ],
 "metadata": {
  "anaconda-cloud": {},
  "kernelspec": {
   "display_name": "Python [Root]",
   "language": "python",
   "name": "Python [Root]"
  },
  "language_info": {
   "codemirror_mode": {
    "name": "ipython",
    "version": 3
   },
   "file_extension": ".py",
   "mimetype": "text/x-python",
   "name": "python",
   "nbconvert_exporter": "python",
   "pygments_lexer": "ipython3",
   "version": "3.5.2"
  }
 },
 "nbformat": 4,
 "nbformat_minor": 0
}
