{
 "cells": [
  {
   "cell_type": "code",
   "execution_count": 1,
   "metadata": {
    "collapsed": true
   },
   "outputs": [],
   "source": [
    "import re\n",
    "import pickle\n",
    "import nltk\n",
    "from nltk.tokenize import  TweetTokenizer\n",
    "from nltk.corpus import stopwords\n"
   ]
  },
  {
   "cell_type": "code",
   "execution_count": 8,
   "metadata": {},
   "outputs": [
    {
     "data": {
      "text/plain": [
       "('<3 ', 'no problem mos wanted is dopeee  33 lovee them ')"
      ]
     },
     "execution_count": 8,
     "metadata": {},
     "output_type": "execute_result"
    }
   ],
   "source": [
    "from nltk.stem.snowball import SnowballStemmer\n",
    "\n",
    "tokenizer =  TweetTokenizer()\n",
    "stop = set(stopwords.words('english')+['<user>','<url>',',','-','.','[',']',':','&'])\n",
    "stemmer = SnowballStemmer(\"english\");\n",
    "mojitable = pickle.load(open('emojtable.😃', 'rb'))\n",
    "mojitable[\"< \\ 3\"] = \"</3\";\n",
    "mojitable[\":')\"] = \":')\";\n",
    "mojitable[\":/\"] = \":/\";\n",
    "mojitable = {k: v for k, v in mojitable.items() if v != \"\"}\n",
    "keys = [k for k, v in mojitable.items()]\n",
    "prog = re.compile(\"(?:\\s|^)((?:[^\\si][^a-zA-Z1-9\\n]+)(?:[^\\si](?:[^a-zA-Z1-9\\n]+|$))+|<3|:/)\")\n",
    "lineHead = re.compile(\"^(\\d+,)\");\n",
    "\n",
    "def replaceMoji(s):\n",
    "    def checkSubstring(emo):\n",
    "        for k in keys:\n",
    "            if k in emo :\n",
    "                return mojitable[k]\n",
    "        return \"\";\n",
    "    splitted = prog.split(s)\n",
    "    moj = \"\"\n",
    "    nomoj = \"\"\n",
    "    for i in range(0,int(len(splitted)/2)):\n",
    "        nomoj += splitted[2*i]+\" \"\n",
    "        emo = splitted[2*i+1].strip()\n",
    "        parsedEmo = mojitable.get(emo,checkSubstring(emo))\n",
    "        moj += parsedEmo+\" \"    \n",
    "    return (moj,nomoj+splitted[-1]);\n",
    "\n",
    "def prepareOneLine(line):\n",
    "    try :\n",
    "        tweet = line.decode('utf-8')\n",
    "    except UnicodeDecodeError :\n",
    "        tweet = str(line)[2:-5]\n",
    "        print(\"cant parse \"+tweet)\n",
    "    head = lineHead.search(tweet)\n",
    "    header = \"\"\n",
    "    if head != None :\n",
    "        header = head.group(1)\n",
    "        tweet = tweet[len(header):]\n",
    "    return (header+preparOneTweets(tweet)+\"\\n\").encode('utf-8')\n",
    "            \n",
    "def preparOneTweets(tweet):\n",
    "    moj,nomoj = replaceMoji(tweet)\n",
    "    return  \" \".join([stemmer.stem(i) for i in tokenizer.tokenize(nomoj) if i not in stop])+\" \"+moj\n",
    "\n",
    "def justExtractMoj(line):\n",
    "    try :\n",
    "        tweet = line.decode('utf-8')\n",
    "    except UnicodeDecodeError :\n",
    "        tweet = str(line)[2:-5]\n",
    "        print(\"cant parse \"+tweet)\n",
    "    head = lineHead.search(tweet)\n",
    "    header = \"\"\n",
    "    if head != None :\n",
    "        header = head.group(1)\n",
    "        tweet = tweet[len(header):]\n",
    "    moj,nomoj = replaceMoji(tweet)\n",
    "    return (header+nomoj+\"\\n\").encode('utf-8'),(moj.strip()+\"\\n\").encode('utf-8')\n",
    "\n",
    "def extractMojFromFile(file):\n",
    "    lines = []\n",
    "    lines = map(justExtractMoj,pickle.load(open(file, 'rb')))\n",
    "\n",
    "    with open(\"moj_\"+file,\"wb\") as fmoj:\n",
    "         with open(\"nomoj_\"+file,\"wb\") as fnomoj:\n",
    "            for nomoj,moj in lines:\n",
    "                fmoj.write(moj)\n",
    "                fnomoj.write(nomoj)\n",
    "            fnomoj.close()\n",
    "            fmoj.close()\n",
    "    print(\"done \"+file)\n",
    "    \n",
    "def preprocessFile(file):\n",
    "    lines = []\n",
    "    with open(file,'rb') as f :\n",
    "        lines = map(prepareOneLine,f.readlines())\n",
    "        f.close()\n",
    "    with open(\"cleaned\"+file,\"wb\") as f:\n",
    "        for l in lines:\n",
    "            f.write(l)\n",
    "        f.close()\n",
    "        print(\"done \"+file)\n",
    "def checkSubstring(emo):\n",
    "        for k in keys:\n",
    "            if k in emo :\n",
    "                return mojitable[k]\n",
    "        return \"\";\n",
    "replaceMoji('no problem mos wanted is dopeee <3 33 lovee them ')"
   ]
  },
  {
   "cell_type": "code",
   "execution_count": 12,
   "metadata": {
    "scrolled": false
   },
   "outputs": [
    {
     "ename": "AttributeError",
     "evalue": "'numpy.str_' object has no attribute 'decode'",
     "output_type": "error",
     "traceback": [
      "\u001b[1;31m---------------------------------------------------------------------------\u001b[0m",
      "\u001b[1;31mAttributeError\u001b[0m                            Traceback (most recent call last)",
      "\u001b[1;32m<ipython-input-12-05c440e72bf7>\u001b[0m in \u001b[0;36m<module>\u001b[1;34m()\u001b[0m\n\u001b[0;32m      1\u001b[0m \u001b[0mfiles\u001b[0m \u001b[1;33m=\u001b[0m \u001b[1;33m[\u001b[0m\u001b[1;34m\"twitter-datasets/full_train_clean.pkl\"\u001b[0m\u001b[1;33m]\u001b[0m\u001b[1;33m\u001b[0m\u001b[0m\n\u001b[0;32m      2\u001b[0m \u001b[1;32mfor\u001b[0m \u001b[0mf\u001b[0m \u001b[1;32min\u001b[0m \u001b[0mfiles\u001b[0m\u001b[1;33m:\u001b[0m\u001b[1;33m\u001b[0m\u001b[0m\n\u001b[1;32m----> 3\u001b[1;33m     \u001b[0mextractMojFromFile\u001b[0m\u001b[1;33m(\u001b[0m\u001b[0mf\u001b[0m\u001b[1;33m)\u001b[0m\u001b[1;33m\u001b[0m\u001b[0m\n\u001b[0m",
      "\u001b[1;32m<ipython-input-8-69596937db14>\u001b[0m in \u001b[0;36mextractMojFromFile\u001b[1;34m(file)\u001b[0m\n\u001b[0;32m     66\u001b[0m     \u001b[1;32mwith\u001b[0m \u001b[0mopen\u001b[0m\u001b[1;33m(\u001b[0m\u001b[1;34m\"moj_\"\u001b[0m\u001b[1;33m+\u001b[0m\u001b[0mfile\u001b[0m\u001b[1;33m,\u001b[0m\u001b[1;34m\"wb\"\u001b[0m\u001b[1;33m)\u001b[0m \u001b[1;32mas\u001b[0m \u001b[0mfmoj\u001b[0m\u001b[1;33m:\u001b[0m\u001b[1;33m\u001b[0m\u001b[0m\n\u001b[0;32m     67\u001b[0m          \u001b[1;32mwith\u001b[0m \u001b[0mopen\u001b[0m\u001b[1;33m(\u001b[0m\u001b[1;34m\"nomoj_\"\u001b[0m\u001b[1;33m+\u001b[0m\u001b[0mfile\u001b[0m\u001b[1;33m,\u001b[0m\u001b[1;34m\"wb\"\u001b[0m\u001b[1;33m)\u001b[0m \u001b[1;32mas\u001b[0m \u001b[0mfnomoj\u001b[0m\u001b[1;33m:\u001b[0m\u001b[1;33m\u001b[0m\u001b[0m\n\u001b[1;32m---> 68\u001b[1;33m             \u001b[1;32mfor\u001b[0m \u001b[0mnomoj\u001b[0m\u001b[1;33m,\u001b[0m\u001b[0mmoj\u001b[0m \u001b[1;32min\u001b[0m \u001b[0mlines\u001b[0m\u001b[1;33m:\u001b[0m\u001b[1;33m\u001b[0m\u001b[0m\n\u001b[0m\u001b[0;32m     69\u001b[0m                 \u001b[0mfmoj\u001b[0m\u001b[1;33m.\u001b[0m\u001b[0mwrite\u001b[0m\u001b[1;33m(\u001b[0m\u001b[0mmoj\u001b[0m\u001b[1;33m)\u001b[0m\u001b[1;33m\u001b[0m\u001b[0m\n\u001b[0;32m     70\u001b[0m                 \u001b[0mfnomoj\u001b[0m\u001b[1;33m.\u001b[0m\u001b[0mwrite\u001b[0m\u001b[1;33m(\u001b[0m\u001b[0mnomoj\u001b[0m\u001b[1;33m)\u001b[0m\u001b[1;33m\u001b[0m\u001b[0m\n",
      "\u001b[1;32m<ipython-input-8-69596937db14>\u001b[0m in \u001b[0;36mjustExtractMoj\u001b[1;34m(line)\u001b[0m\n\u001b[0;32m     48\u001b[0m \u001b[1;32mdef\u001b[0m \u001b[0mjustExtractMoj\u001b[0m\u001b[1;33m(\u001b[0m\u001b[0mline\u001b[0m\u001b[1;33m)\u001b[0m\u001b[1;33m:\u001b[0m\u001b[1;33m\u001b[0m\u001b[0m\n\u001b[0;32m     49\u001b[0m     \u001b[1;32mtry\u001b[0m \u001b[1;33m:\u001b[0m\u001b[1;33m\u001b[0m\u001b[0m\n\u001b[1;32m---> 50\u001b[1;33m         \u001b[0mtweet\u001b[0m \u001b[1;33m=\u001b[0m \u001b[0mline\u001b[0m\u001b[1;33m.\u001b[0m\u001b[0mdecode\u001b[0m\u001b[1;33m(\u001b[0m\u001b[1;34m'utf-8'\u001b[0m\u001b[1;33m)\u001b[0m\u001b[1;33m\u001b[0m\u001b[0m\n\u001b[0m\u001b[0;32m     51\u001b[0m     \u001b[1;32mexcept\u001b[0m \u001b[0mUnicodeDecodeError\u001b[0m \u001b[1;33m:\u001b[0m\u001b[1;33m\u001b[0m\u001b[0m\n\u001b[0;32m     52\u001b[0m         \u001b[0mtweet\u001b[0m \u001b[1;33m=\u001b[0m \u001b[0mstr\u001b[0m\u001b[1;33m(\u001b[0m\u001b[0mline\u001b[0m\u001b[1;33m)\u001b[0m\u001b[1;33m[\u001b[0m\u001b[1;36m2\u001b[0m\u001b[1;33m:\u001b[0m\u001b[1;33m-\u001b[0m\u001b[1;36m5\u001b[0m\u001b[1;33m]\u001b[0m\u001b[1;33m\u001b[0m\u001b[0m\n",
      "\u001b[1;31mAttributeError\u001b[0m: 'numpy.str_' object has no attribute 'decode'"
     ]
    }
   ],
   "source": [
    "files = [\"twitter-datasets/full_train_clean.pkl\"]\n",
    "for f in files:\n",
    "    extractMojFromFile(f)"
   ]
  },
  {
   "cell_type": "code",
   "execution_count": null,
   "metadata": {},
   "outputs": [],
   "source": [
    "mojitable"
   ]
  },
  {
   "cell_type": "code",
   "execution_count": null,
   "metadata": {
    "collapsed": true
   },
   "outputs": [],
   "source": []
  }
 ],
 "metadata": {
  "anaconda-cloud": {},
  "kernelspec": {
   "display_name": "Python 3",
   "language": "python",
   "name": "python3"
  },
  "language_info": {
   "codemirror_mode": {
    "name": "ipython",
    "version": 3
   },
   "file_extension": ".py",
   "mimetype": "text/x-python",
   "name": "python",
   "nbconvert_exporter": "python",
   "pygments_lexer": "ipython3",
   "version": "3.6.2"
  }
 },
 "nbformat": 4,
 "nbformat_minor": 1
}
