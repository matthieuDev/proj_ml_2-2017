{
 "cells": [
  {
   "cell_type": "code",
   "execution_count": 1,
   "metadata": {
    "collapsed": true
   },
   "outputs": [],
   "source": [
    "import re\n",
    "import pickle\n",
    "import nltk\n",
    "from nltk.tokenize import  TweetTokenizer\n",
    "from nltk.corpus import stopwords\n"
   ]
  },
  {
   "cell_type": "code",
   "execution_count": 8,
   "metadata": {
    "collapsed": false
   },
   "outputs": [],
   "source": [
    "from nltk.stem.snowball import SnowballStemmer\n",
    "\n",
    "tokenizer =  TweetTokenizer()\n",
    "stop = set(stopwords.words('english')+['<user>','<url>',',','-','.','[',']',':','&'])\n",
    "stemmer = SnowballStemmer(\"english\");\n",
    "mojitable = pickle.load(open('emojtable.😃', 'rb'))\n",
    "mojitable[\"< \\ 3\"] = \"</3\";\n",
    "mojitable = {k: v for k, v in mojitable.items() if v != \"\"}\n",
    "keys = [k for k, v in mojitable.items()]\n",
    "prog = re.compile(\"(?:\\s|^)((?:[^\\s][^a-zA-Z1-9\\n]+)(?:[^\\s](?:[^a-zA-Z1-9\\n]+|$))+)\")\n",
    "lineHead = re.compile(\"^(\\d+,)\");\n",
    "\n",
    "def replaceMoji(s):\n",
    "    def checkSubstring(emo):\n",
    "        for k in keys:\n",
    "            if k in emo :\n",
    "                return mojitable[k]\n",
    "        return \"\";\n",
    "    splitted = prog.split(s)\n",
    "    moj = \"\"\n",
    "    nomoj = \"\"\n",
    "    for i in range(0,int(len(splitted)/2)):\n",
    "        nomoj += splitted[2*i]+\" \"\n",
    "        emo = splitted[2*i+1].strip()\n",
    "        parsedEmo = emo \n",
    "        if \" \" in parsedEmo:\n",
    "            parsedEmo = mojitable.get(emo,checkSubstring(emo))\n",
    "        moj += \" \"+parsedEmo+\" \"    \n",
    "    return (moj,nomoj+splitted[-1]);\n",
    "def prepareOneLine(line):\n",
    "    try :\n",
    "        tweet = line.decode('utf-8')\n",
    "    except UnicodeDecodeError :\n",
    "        tweet = str(line)[2:-5]\n",
    "        print(\"cant parse \"+tweet)\n",
    "    head = lineHead.search(tweet)\n",
    "    header = \"\"\n",
    "    if head != None :\n",
    "        header = head.group(1)\n",
    "        tweet = tweet[len(header):]\n",
    "    return (header+preparOneTweets(tweet)+\"\\n\").encode('utf-8')\n",
    "            \n",
    "def preparOneTweets(tweet):\n",
    "    moj,nomoj = replaceMoji(tweet)\n",
    "    return  \" \".join([stemmer.stem(i) for i in tokenizer.tokenize(nomoj) if i not in stop])+\" \"+moj\n",
    "def preprocessFile(file):\n",
    "    lines = []\n",
    "    with open(file,'rb') as f :\n",
    "        lines = map(prepareOneLine,f.readlines())\n",
    "        f.close()\n",
    "    with open(\"cleaned\"+file,\"wb\") as f:\n",
    "        for l in lines:\n",
    "            f.write(l)\n",
    "        f.close()\n",
    "        print(\"done \"+file)\n",
    "(\"kerrri total forgot could use extra ticket gave away  ! ! !  ( ( ( \")\n",
    "def checkSubstring(emo):\n",
    "        for k in keys:\n",
    "            if k in emo :\n",
    "                return mojitable[k]\n",
    "        return \"\";"
   ]
  },
  {
   "cell_type": "code",
   "execution_count": 9,
   "metadata": {
    "collapsed": false
   },
   "outputs": [
    {
     "name": "stdout",
     "output_type": "stream",
     "text": [
      "cant parse rt allaah subhanau taa'la say ( interpret mean \\x93 salaam ( peac ) upon ...\n",
      "cant parse rt \\x93 loool call #teamsomalia consid come ...\n",
      "cant parse franco ( life \\xd7 ) ( paperback francisco franco ( 1892-1975 ) grew quiet backwat el ferrol ...\n",
      "cant parse franco ( life \\xd7 ) ( paperback francisco franco ( 1892-1975 ) grew quiet backwat el ferrol ...\n",
      "cant parse yes ! rt yah , pep \\x93 gracia pep guardiola fabul 4 year 10 ...\n",
      "done train_neg.txt\n",
      "done train_neg_full.txt\n",
      "done train_pos.txt\n",
      "done train_pos_full.txt\n",
      "done test_data.txt\n"
     ]
    }
   ],
   "source": [
    "files = [\"train_neg.txt\",\"train_neg_full.txt\",\"train_pos.txt\",\"train_pos_full.txt\",\"test_data.txt\"]\n",
    "for f in files:\n",
    "    preprocessFile(f)"
   ]
  },
  {
   "cell_type": "code",
   "execution_count": null,
   "metadata": {
    "collapsed": true
   },
   "outputs": [],
   "source": []
  },
  {
   "cell_type": "code",
   "execution_count": null,
   "metadata": {
    "collapsed": true
   },
   "outputs": [],
   "source": []
  }
 ],
 "metadata": {
  "kernelspec": {
   "display_name": "Python [Root]",
   "language": "python",
   "name": "Python [Root]"
  },
  "language_info": {
   "codemirror_mode": {
    "name": "ipython",
    "version": 3
   },
   "file_extension": ".py",
   "mimetype": "text/x-python",
   "name": "python",
   "nbconvert_exporter": "python",
   "pygments_lexer": "ipython3",
   "version": "3.5.2"
  }
 },
 "nbformat": 4,
 "nbformat_minor": 0
}
