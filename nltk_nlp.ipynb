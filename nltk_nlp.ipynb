{
 "cells": [
  {
   "cell_type": "code",
   "execution_count": 10,
   "metadata": {},
   "outputs": [
    {
     "name": "stdout",
     "output_type": "stream",
     "text": [
      "{'T': True, 'h': True, 'e': True, ' ': True, 'c': True, 'a': True, 't': True, 'i': True, 's': True, 'v': True, 'r': True, 'y': True, 'u': True}\n"
     ]
    }
   ],
   "source": [
    "import nltk\n",
    "from nltk import pos_tag\n",
    "import pickle\n",
    "from nltk.classify import NaiveBayesClassifier\n",
    "#nltk.download()\n",
    "from nltk.stem import PorterStemmer, WordNetLemmatizer\n",
    "from nltk.tokenize import word_tokenize\n",
    "from nltk.corpus import stopwords\n",
    "\n",
    "\n",
    "import implementations as imp\n",
    " \n",
    "def format_sentence(sent):\n",
    "    return({word: True for word in (sent)})\n",
    " \n",
    "print(format_sentence(\"The cat is very cute\"))"
   ]
  },
  {
   "cell_type": "code",
   "execution_count": 2,
   "metadata": {
    "collapsed": true
   },
   "outputs": [],
   "source": [
    "#tweets_train_nlp = [ [ stemmer.stem(ke_free_lemm(word[0],word[1])) for word in pos_tag(split_ok (x))] \\\n",
    "#                    for x in tweets_train [:100] \\\n",
    " #                   ]\n",
    "#tweets_train_nlp = [  pos_tag(x[:-2].split(' ')) for x in tweets_train [:]  ]"
   ]
  },
  {
   "cell_type": "code",
   "execution_count": 4,
   "metadata": {},
   "outputs": [
    {
     "name": "stdout",
     "output_type": "stream",
     "text": [
      "0\n",
      "1140947\n"
     ]
    }
   ],
   "source": [
    "tweets_train_nlp = pickle.load(open('tweets_nlp.pkl', 'rb'))\n",
    "smile = pickle.load(open('twitter-datasets/train_smile.pkl', 'rb'))\n",
    "smile_m_one = len([1 for x in smile if x == -1])\n",
    "tweets_train = []\n",
    "print(len(tweets_train))\n",
    "for i in tweets_train_nlp[:smile_m_one]: \n",
    "    tweets_train.append([format_sentence(i), -1])\n",
    "print(len(tweets_train))\n",
    "for i in tweets_train_nlp[smile_m_one:]: \n",
    "    tweets_train.append([format_sentence(i), 1])"
   ]
  },
  {
   "cell_type": "code",
   "execution_count": 5,
   "metadata": {
    "collapsed": true
   },
   "outputs": [],
   "source": [
    "classifier = NaiveBayesClassifier.train(tweets_train)"
   ]
  },
  {
   "cell_type": "code",
   "execution_count": 6,
   "metadata": {
    "collapsed": true
   },
   "outputs": [],
   "source": [
    "def split_id_tweet (list_tweets) :\n",
    "    ids = [x.split(',')[0] for x in list_tweets]\n",
    "    tweets =  [','.join(x.split(',')[1:]) for x in list_tweets]\n",
    "    return ids , tweets\n",
    "tweets_test=[]\n",
    "with open('test_data.txt') as f :\n",
    "    ids , tweets_test = split_id_tweet(f.readlines())"
   ]
  },
  {
   "cell_type": "code",
   "execution_count": 12,
   "metadata": {},
   "outputs": [
    {
     "name": "stdout",
     "output_type": "stream",
     "text": [
      "begin\n"
     ]
    }
   ],
   "source": [
    "stemmer = PorterStemmer()\n",
    "lemmatiser = WordNetLemmatizer()\n",
    "\n",
    "def ke_free_lemm (word , type_) :\n",
    "    try :\n",
    "        res = lemmatiser.lemmatize(word , type_)\n",
    "        print(res,word ,type_)\n",
    "        return \n",
    "        \n",
    "    except KeyError :\n",
    "        return word\n",
    "\n",
    "def lemmatize (tweet):\n",
    "    \n",
    "    return [ lemmatiser.lemmatize(x) for x in tweet ]\n",
    "\n",
    "def split_ok (tweet) :\n",
    "    res = tweet[:-1].split(' ')\n",
    "    res = [ x for x in res if x != '']\n",
    "    return res\n",
    "\n",
    "print ( 'begin')\n",
    "tweets_test_nlp = [ [ stemmer.stem(ke_free_lemm(word[0],word[1])) for word in pos_tag(split_ok (x))] \\\n",
    "                    for x in tweets_test\\\n",
    "                    ]"
   ]
  },
  {
   "cell_type": "code",
   "execution_count": 13,
   "metadata": {
    "collapsed": true
   },
   "outputs": [],
   "source": [
    "\n",
    "\n",
    "res = [ classifier.classify(format_sentence(x)) for x in tweets_test_nlp]\n",
    "imp.create_csv_submission(ids,res,'results_nltk_nlp.csv')"
   ]
  },
  {
   "cell_type": "code",
   "execution_count": 14,
   "metadata": {},
   "outputs": [
    {
     "data": {
      "text/plain": [
       "[1, 1, 1, -1, 1, 1, 1, -1, -1, -1, -1, -1, 1, 1, -1, 1, 1, -1, -1, 1]"
      ]
     },
     "execution_count": 14,
     "metadata": {},
     "output_type": "execute_result"
    }
   ],
   "source": [
    "res[:20]"
   ]
  },
  {
   "cell_type": "code",
   "execution_count": null,
   "metadata": {
    "collapsed": true
   },
   "outputs": [],
   "source": []
  },
  {
   "cell_type": "code",
   "execution_count": null,
   "metadata": {
    "collapsed": true
   },
   "outputs": [],
   "source": []
  }
 ],
 "metadata": {
  "kernelspec": {
   "display_name": "Python 3",
   "language": "python",
   "name": "python3"
  },
  "language_info": {
   "codemirror_mode": {
    "name": "ipython",
    "version": 3
   },
   "file_extension": ".py",
   "mimetype": "text/x-python",
   "name": "python",
   "nbconvert_exporter": "python",
   "pygments_lexer": "ipython3",
   "version": "3.6.2"
  }
 },
 "nbformat": 4,
 "nbformat_minor": 2
}
