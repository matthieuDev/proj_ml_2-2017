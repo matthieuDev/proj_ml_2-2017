{
 "cells": [
  {
   "cell_type": "code",
   "execution_count": 1,
   "metadata": {
    "collapsed": true
   },
   "outputs": [],
   "source": [
    "import numpy as np\n",
    "import pickle\n",
    "\n",
    "from scipy.sparse import rand\n",
    "from sklearn.svm import SVR\n",
    "from sklearn.model_selection import GridSearchCV\n",
    "from sklearn.model_selection import learning_curve\n",
    "from sklearn.kernel_ridge import KernelRidge\n",
    "import matplotlib.pyplot as plt\n",
    "from scipy.sparse import coo_matrix\n",
    "\n",
    "import implementations as imp\n",
    "import proj1_helpers as ph\n",
    "import glove as gl\n",
    "\n",
    "from nltk import pos_tag\n",
    "#nltk.download()\n",
    "from nltk.stem import PorterStemmer, WordNetLemmatizer\n",
    "from nltk.tokenize import word_tokenize\n",
    "from nltk.corpus import stopwords\n",
    "from sklearn.neural_network import MLPClassifier"
   ]
  },
  {
   "cell_type": "code",
   "execution_count": null,
   "metadata": {
    "collapsed": true
   },
   "outputs": [],
   "source": []
  },
  {
   "cell_type": "code",
   "execution_count": null,
   "metadata": {
    "collapsed": true
   },
   "outputs": [],
   "source": []
  },
  {
   "cell_type": "code",
   "execution_count": 4,
   "metadata": {},
   "outputs": [],
   "source": [
    "tweets_train = pickle.load(open('twitter-datasets/full_train_clean.pkl', 'rb'))\n",
    "\n",
    "smile = pickle.load(open('twitter-datasets/train_smile.pkl', 'rb'))\n",
    "\n",
    "    \n"
   ]
  },
  {
   "cell_type": "code",
   "execution_count": 5,
   "metadata": {},
   "outputs": [
    {
     "data": {
      "text/plain": [
       "2266700"
      ]
     },
     "execution_count": 5,
     "metadata": {},
     "output_type": "execute_result"
    }
   ],
   "source": [
    "len(tweets_train)"
   ]
  },
  {
   "cell_type": "code",
   "execution_count": 6,
   "metadata": {
    "collapsed": true
   },
   "outputs": [],
   "source": [
    "stemmer = PorterStemmer()\n",
    "lemmatiser = WordNetLemmatizer()"
   ]
  },
  {
   "cell_type": "code",
   "execution_count": 7,
   "metadata": {
    "collapsed": true
   },
   "outputs": [],
   "source": [
    "#tweets_train_nlp = [ [ stemmer.stem(ke_free_lemm(word[0],word[1])) for word in pos_tag(split_ok (x))] \\\n",
    "#                    for x in tweets_train [:100] \\\n",
    " #                   ]\n",
    "#tweets_train_nlp = [  pos_tag(x[:-2].split(' ')) for x in tweets_train [:]  ]\n"
   ]
  },
  {
   "cell_type": "code",
   "execution_count": 8,
   "metadata": {
    "collapsed": true
   },
   "outputs": [],
   "source": [
    "tweets_train_nlp = pickle.load(open('tweets_nlp_lem', 'rb'))"
   ]
  },
  {
   "cell_type": "code",
   "execution_count": 9,
   "metadata": {
    "collapsed": true
   },
   "outputs": [],
   "source": [
    "stopwords_stem = [ stemmer.stem(x) for x in stopwords.words('english')]\n",
    "list_word_with_rep = [ y for x in tweets_train_nlp for y in x if x not in stopwords_stem]\n",
    "list_word = list(set(list_word_with_rep))"
   ]
  },
  {
   "cell_type": "code",
   "execution_count": 10,
   "metadata": {},
   "outputs": [
    {
     "data": {
      "text/plain": [
       "592532"
      ]
     },
     "execution_count": 10,
     "metadata": {},
     "output_type": "execute_result"
    }
   ],
   "source": [
    "len(list_word)"
   ]
  },
  {
   "cell_type": "code",
   "execution_count": 11,
   "metadata": {
    "collapsed": true
   },
   "outputs": [],
   "source": [
    "def create_vocab(list_word):\n",
    "    vocab = dict()\n",
    "    for idx, line in enumerate(list_word):\n",
    "        vocab[line.strip()] = idx\n",
    "\n",
    "    return vocab\n",
    "\n",
    "vocab = create_vocab(list_word)\n",
    "\n",
    "with open('vocab_nlp2.pkl', 'wb') as f:\n",
    "        pickle.dump(vocab, f, pickle.HIGHEST_PROTOCOL)\n"
   ]
  },
  {
   "cell_type": "code",
   "execution_count": 12,
   "metadata": {},
   "outputs": [
    {
     "data": {
      "text/plain": [
       "592532"
      ]
     },
     "execution_count": 12,
     "metadata": {},
     "output_type": "execute_result"
    }
   ],
   "source": [
    "len(vocab)"
   ]
  },
  {
   "cell_type": "code",
   "execution_count": 13,
   "metadata": {},
   "outputs": [
    {
     "name": "stdout",
     "output_type": "stream",
     "text": [
      "summing duplicates (this can take a while)\n"
     ]
    }
   ],
   "source": [
    "def creat_cooc(list_word_with_rep,vocab):\n",
    "    vocab_size = len(vocab)\n",
    "\n",
    "    data, row, col = [], [], []\n",
    "    counter = 1\n",
    "    \n",
    "    for line in list_word:\n",
    "        tokens = [vocab.get(t, -1) for t in line.strip().split()]\n",
    "        tokens = [t for t in tokens if t >= 0]\n",
    "        for t in tokens:\n",
    "            for t2 in tokens:\n",
    "                data.append(1)\n",
    "                row.append(t)\n",
    "                col.append(t2)\n",
    "\n",
    "        counter += 1\n",
    "    cooc = coo_matrix((data, (row, col)))\n",
    "    print(\"summing duplicates (this can take a while)\")\n",
    "    cooc.sum_duplicates()\n",
    "    return cooc\n",
    "\n",
    "\n",
    "cooc = creat_cooc(list_word,vocab)\n",
    "with open('cooc_nlp2.pkl', 'wb') as f:\n",
    "        pickle.dump(cooc, f, pickle.HIGHEST_PROTOCOL)\n"
   ]
  },
  {
   "cell_type": "code",
   "execution_count": 14,
   "metadata": {},
   "outputs": [
    {
     "name": "stdout",
     "output_type": "stream",
     "text": [
      "loading cooccurrence matrix\n",
      "592531 nonzero entries\n",
      "using nmax = 100 , cooc.max() = 1\n",
      "initializing embeddings\n",
      "epoch 0\n",
      "epoch 1\n",
      "epoch 2\n",
      "epoch 3\n",
      "epoch 4\n",
      "epoch 5\n",
      "epoch 6\n",
      "epoch 7\n",
      "epoch 8\n",
      "epoch 9\n"
     ]
    }
   ],
   "source": [
    "def glove_create(cooc , k):\n",
    "    print(\"loading cooccurrence matrix\")\n",
    "    \n",
    "    print(\"{} nonzero entries\".format(cooc.nnz))\n",
    "\n",
    "    nmax = 100\n",
    "    print(\"using nmax =\", nmax, \", cooc.max() =\", cooc.max())\n",
    "\n",
    "    print(\"initializing embeddings\")\n",
    "    embedding_dim = k\n",
    "    xs = np.random.normal(size=(cooc.shape[0], embedding_dim))\n",
    "    ys = np.random.normal(size=(cooc.shape[1], embedding_dim))\n",
    "\n",
    "    eta = 0.001\n",
    "    alpha = 3 / 4\n",
    "\n",
    "    epochs = 10\n",
    "\n",
    "    for epoch in range(epochs):\n",
    "        print(\"epoch {}\".format(epoch))\n",
    "        for ix, jy, n in zip(cooc.row, cooc.col, cooc.data):\n",
    "            xdn = np.log(n)\n",
    "            fdn = min(1.0, (n/nmax)**alpha)\n",
    "            x = xs[ix, :]\n",
    "            y = ys[jy, :]\n",
    "            scale = 2 * eta * fdn * (xdn - np.dot(x, y))\n",
    "            xs[ix, :] += scale * y\n",
    "            ys[jy, :] += scale * x\n",
    "\n",
    "    return  xs\n",
    "\n",
    "glove = glove_create(cooc , 20)\n",
    "\n",
    "with open('glove_nlp2.pkl', 'wb') as f:\n",
    "        pickle.dump(cooc, f, pickle.HIGHEST_PROTOCOL)\n",
    "\n",
    "\n"
   ]
  },
  {
   "cell_type": "code",
   "execution_count": 15,
   "metadata": {
    "collapsed": true
   },
   "outputs": [],
   "source": [
    "#gl.main(20)"
   ]
  },
  {
   "cell_type": "code",
   "execution_count": 16,
   "metadata": {
    "collapsed": true
   },
   "outputs": [],
   "source": [
    "def split_id_tweet (list_tweets) :\n",
    "    ids = [x.split(',')[0] for x in list_tweets]\n",
    "    tweets =  [','.join(x.split(',')[1:]) for x in list_tweets]\n",
    "    return ids , tweets"
   ]
  },
  {
   "cell_type": "code",
   "execution_count": 17,
   "metadata": {},
   "outputs": [
    {
     "data": {
      "text/plain": [
       "'if your female and didnt get more than 5 a * - c passes at gcse . please refrain talking to me .. thanks\\n'"
      ]
     },
     "execution_count": 17,
     "metadata": {},
     "output_type": "execute_result"
    }
   ],
   "source": [
    "tweets_train[0]"
   ]
  },
  {
   "cell_type": "code",
   "execution_count": 18,
   "metadata": {
    "collapsed": true
   },
   "outputs": [],
   "source": [
    "def to_three (idx , line , not_split ) :\n",
    "    res_set= []\n",
    "    res = []\n",
    "    iter_on = line\n",
    "    if(not_split) :\n",
    "        iter_on = line.split(' ')\n",
    "    \n",
    "    for word in iter_on :\n",
    "        change_nb = vocab.get(word)\n",
    "        if change_nb != None :\n",
    "            res_set += [change_nb]\n",
    "    for change_nb in set(res_set) :\n",
    "        res += [[1 , idx , change_nb]]\n",
    "    return res\n",
    "#tweets_to_sparse = [ np.array(elem) for idx , line in enumerate(tweets,0) for elem in to_three(idx , line)]\n",
    "\n",
    "def columns ( matrix , i) :\n",
    "    return [x[i] for x in matrix]\n",
    "\n",
    "\n",
    "def tweet_to_matrix ( tweets , not_split ) :\n",
    "    tweets_to_sparse = [ np.array(elem) for idx , line in enumerate(tweets,0) for elem in to_three(idx , line, not_split )]\n",
    "    len(tweets)\n",
    "    len(glove)\n",
    "    sparse_tweets = coo_matrix((columns(tweets_to_sparse,0) , (columns(tweets_to_sparse,1),columns(tweets_to_sparse,2))) , shape=(len(tweets), len(glove)))\n",
    "    return sparse_tweets.dot(glove)"
   ]
  },
  {
   "cell_type": "code",
   "execution_count": 19,
   "metadata": {
    "collapsed": true
   },
   "outputs": [],
   "source": [
    "#sparse_tweets = coo_matrix((columns(0) , (columns(1),columns(2))) , shape=(len(tweets), len(glove)))\n",
    "#tweets_res = sparse_tweets.dot(glove)\n",
    "tweets_res = tweet_to_matrix(tweets_train_nlp , False)\n"
   ]
  },
  {
   "cell_type": "code",
   "execution_count": 20,
   "metadata": {},
   "outputs": [
    {
     "data": {
      "text/plain": [
       "(0, 2266700, 0.0, 2266700)"
      ]
     },
     "execution_count": 20,
     "metadata": {},
     "output_type": "execute_result"
    }
   ],
   "source": [
    "count = 0\n",
    "count2 = 0\n",
    "for x in tweets_res :\n",
    "    count2 +=1\n",
    "    if  np.count_nonzero(x) == 0 :\n",
    "        count +=1\n",
    "count , len(tweets_res) , count/len(tweets_res) , count2"
   ]
  },
  {
   "cell_type": "code",
   "execution_count": 21,
   "metadata": {
    "collapsed": true
   },
   "outputs": [],
   "source": [
    "del cooc\n",
    "del vocab"
   ]
  },
  {
   "cell_type": "code",
   "execution_count": 22,
   "metadata": {},
   "outputs": [
    {
     "data": {
      "text/plain": [
       "MLPClassifier(activation='relu', alpha=1e-05, batch_size='auto', beta_1=0.9,\n",
       "       beta_2=0.999, early_stopping=False, epsilon=1e-08,\n",
       "       hidden_layer_sizes=(100,), learning_rate='constant',\n",
       "       learning_rate_init=0.001, max_iter=200, momentum=0.9,\n",
       "       nesterovs_momentum=True, power_t=0.5, random_state=1, shuffle=True,\n",
       "       solver='lbfgs', tol=0.0001, validation_fraction=0.1, verbose=False,\n",
       "       warm_start=False)"
      ]
     },
     "execution_count": 22,
     "metadata": {},
     "output_type": "execute_result"
    }
   ],
   "source": [
    "\n",
    "\n",
    "clf = MLPClassifier(solver='lbfgs', alpha=1e-5, random_state=1)\n",
    "clf.fit(tweets_res,smile[:2268591])"
   ]
  },
  {
   "cell_type": "code",
   "execution_count": null,
   "metadata": {
    "collapsed": true
   },
   "outputs": [],
   "source": []
  },
  {
   "cell_type": "code",
   "execution_count": 23,
   "metadata": {
    "collapsed": true
   },
   "outputs": [],
   "source": [
    "def ke_free_lemm (word , type_) :\n",
    "    try :\n",
    "        res = lemmatiser.lemmatize(word , type_)\n",
    "        print(res,word ,type_)\n",
    "        return \n",
    "        \n",
    "    except KeyError :\n",
    "        return word\n",
    "\n",
    "def lemmatize (tweet):\n",
    "    \n",
    "    return [ lemmatiser.lemmatize(x) for x in tweet ]\n",
    "\n",
    "def split_ok (tweet) :\n",
    "    res = tweet[:-1].split(' ')\n",
    "    res = [ x for x in res if x != '']\n",
    "    return res\n"
   ]
  },
  {
   "cell_type": "code",
   "execution_count": null,
   "metadata": {
    "collapsed": true
   },
   "outputs": [],
   "source": []
  },
  {
   "cell_type": "code",
   "execution_count": 25,
   "metadata": {},
   "outputs": [],
   "source": [
    "ids_test=[]\n",
    "tweets_test=[]\n",
    "\n",
    "vocab = pickle.load(open('vocab_nlp2.pkl', 'rb'))\n",
    "\n",
    "with open('test_data.txt') as f :\n",
    "    ids , tweets_test = split_id_tweet(f.readlines())\n",
    "    \n",
    "tweets_test_nlp = [ [ ke_free_lemm(word[0],word[1]) for word in pos_tag(split_ok (x))] \\\n",
    "                    for x in tweets_test  \\\n",
    "                    ]    \n",
    "\n",
    "tweets_res_test = tweet_to_matrix(tweets_test_nlp,False)\n"
   ]
  },
  {
   "cell_type": "code",
   "execution_count": 26,
   "metadata": {},
   "outputs": [
    {
     "data": {
      "text/plain": [
       "['sea doo pro sea scooter ( sports with the portable sea-doo seascootersave air , stay longer in the water and ... <url>\\n',\n",
       " \"<user> shucks well i work all week so now i can't come cheer you on ! oh and put those batteries in your calculator ! ! !\\n\",\n",
       " 'i cant stay away from bug thats my baby\\n',\n",
       " \"<user> no ma'am ! ! ! lol im perfectly fine and not contagious anymore lmao\\n\",\n",
       " 'whenever i fall asleep watching the tv , i always wake up with a headache\\n',\n",
       " \"<user> he needs to get rid of that thing ! it scares me lol but he don't need a car either . he needs drivers ed again .\\n\",\n",
       " 'its whatever . in a terrible mood ( (\\n',\n",
       " \"yesss ! rt <user> <user> thanks jordan , i love you and i'm gonna call you later !\\n\",\n",
       " 'my friend <user> text me to check up on me last night .\\n',\n",
       " '<user> #followback please . when will ur #unitytour come to europe and sweden ? ?\\n']"
      ]
     },
     "execution_count": 26,
     "metadata": {},
     "output_type": "execute_result"
    }
   ],
   "source": [
    "tweets_test[:10]"
   ]
  },
  {
   "cell_type": "code",
   "execution_count": 27,
   "metadata": {},
   "outputs": [
    {
     "data": {
      "text/plain": [
       "(1, 10000, 0.0001, 10000)"
      ]
     },
     "execution_count": 27,
     "metadata": {},
     "output_type": "execute_result"
    }
   ],
   "source": [
    "count = 0\n",
    "count2 = 0\n",
    "for x in tweets_res_test :\n",
    "    count2 +=1\n",
    "    if  np.count_nonzero(x) == 0 :\n",
    "        count +=1\n",
    "count , len(tweets_res_test) , count/len(tweets_res_test) , count2"
   ]
  },
  {
   "cell_type": "code",
   "execution_count": 28,
   "metadata": {},
   "outputs": [
    {
     "data": {
      "text/plain": [
       "array([-1,  1,  1,  1,  1,  1, -1,  1,  1,  1,  1, -1,  1, -1,  1,  1, -1,\n",
       "       -1,  1, -1])"
      ]
     },
     "execution_count": 28,
     "metadata": {},
     "output_type": "execute_result"
    }
   ],
   "source": [
    "res = clf.predict(tweets_res_test)\n",
    "#res = np.sign(res)\n",
    "res[:20]"
   ]
  },
  {
   "cell_type": "code",
   "execution_count": 29,
   "metadata": {
    "collapsed": true
   },
   "outputs": [],
   "source": [
    "imp.create_csv_submission(ids,res,'results_nlp_lem.csv')"
   ]
  },
  {
   "cell_type": "code",
   "execution_count": 30,
   "metadata": {},
   "outputs": [
    {
     "data": {
      "text/plain": [
       "(0, 10000, 0.0)"
      ]
     },
     "execution_count": 30,
     "metadata": {},
     "output_type": "execute_result"
    }
   ],
   "source": [
    "count = 0\n",
    "for x in res :\n",
    "    if x  == 0 :\n",
    "        count +=1\n",
    "count , len(res) , count/len(res)"
   ]
  },
  {
   "cell_type": "code",
   "execution_count": null,
   "metadata": {
    "collapsed": true
   },
   "outputs": [],
   "source": []
  }
 ],
 "metadata": {
  "kernelspec": {
   "display_name": "Python 3",
   "language": "python",
   "name": "python3"
  },
  "language_info": {
   "codemirror_mode": {
    "name": "ipython",
    "version": 3
   },
   "file_extension": ".py",
   "mimetype": "text/x-python",
   "name": "python",
   "nbconvert_exporter": "python",
   "pygments_lexer": "ipython3",
   "version": "3.6.2"
  }
 },
 "nbformat": 4,
 "nbformat_minor": 2
}
